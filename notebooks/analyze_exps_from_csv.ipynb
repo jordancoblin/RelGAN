{
 "cells": [
  {
   "cell_type": "code",
   "execution_count": 63,
   "metadata": {},
   "outputs": [],
   "source": [
    "import pandas as pd\n",
    "from matplotlib import pyplot as plt\n",
    "from pathlib import Path\n",
    "import numpy as np\n",
    "import tensorboard as tb"
   ]
  },
  {
   "cell_type": "code",
   "execution_count": 36,
   "metadata": {},
   "outputs": [],
   "source": [
    "# logfiles = [\n",
    "#     \"../oracle/experiments/cc_out/gs/20221209/oracle/oracle_rmc_vanilla_RSGAN_adam_bs64_sl20_sn0_dec0_ad-no_npre150_nadv5000_ms1_hs256_nh2_ds5_dlr1e-4_glr1e-4_tem1_demb64_nrep64_hdim32_sd99_alpha1.1/tf_logs/experiment-log-relgan.csv\",\n",
    "#     # \"../remote/output/grpc/reset/reset/2_5_dosing/steps-1/sweep0/run0-2022-09-13 18-14-38.csv\",\n",
    "#     # \"../remote/output/grpc/reset/reset/2_5_dosing/steps-1/sweep0/run0-2022-09-13 20-51-38.csv\",\n",
    "# ]\n",
    "\n",
    "log_dir = Path(\"../oracle/experiments/cc_out/gs/\")\n",
    "\n",
    "# read_csv(..., skiprows=1000000, nrows=999999)\n",
    "# runs = [pd.read_csv(p, sep=\"\\t\", names=[\"datetime\", \"state\", \"action\", \"reward\", \"next_state\", \"done\", \"loss\"]) for p in logfiles]\n",
    "pre_runs = [pd.read_csv(p, nrows=14, names=[\"epoch\", \"g_loss\", \"nll_oracle\", \"nll_gen\"]) for p in log_dir.rglob(\"*.csv\")]\n",
    "adv_runs = [pd.read_csv(p, skiprows=15, names=[\"adv_step\", \"nll_oracle\", \"nll_gen\"]) for p in log_dir.rglob(\"*.csv\")]"
   ]
  },
  {
   "cell_type": "code",
   "execution_count": 66,
   "metadata": {},
   "outputs": [
    {
     "name": "stdout",
     "output_type": "stream",
     "text": [
      "6.3866396\n",
      "0.40132865\n"
     ]
    }
   ],
   "source": [
    "\n",
    "# print(pre_runs[0])\n",
    "# pre_nll_oracle = pre_runs[0].set_index('epoch')['nll_oracle']\n",
    "# pre_nll_oracle = pre_runs[0]['nll_oracle']\n",
    "# adv_nll_oracle = adv_runs[0]['nll_oracle']\n",
    "\n",
    "best_nlls = []\n",
    "for run in adv_runs:\n",
    "    run_nll_oracles = run[\"nll_oracle\"].str.replace('nll_oracle: ', '')\n",
    "    # print(run_nll_oracles)\n",
    "    best_nlls.append(run_nll_oracles.min())\n",
    "\n",
    "best_nlls = np.array(best_nlls, dtype=np.float32)\n",
    "mean = np.mean(best_nlls)\n",
    "std = np.std(best_nlls)\n",
    "print(mean)\n",
    "print(std)"
   ]
  }
 ],
 "metadata": {
  "interpreter": {
   "hash": "1c0c7a6332b3cf72197853e85fcfa2adf1583ffbe17d224524c2878c8166e159"
  },
  "kernelspec": {
   "display_name": "Python 3.6.15 64-bit ('3.6.15')",
   "language": "python",
   "name": "python3"
  },
  "language_info": {
   "codemirror_mode": {
    "name": "ipython",
    "version": 3
   },
   "file_extension": ".py",
   "mimetype": "text/x-python",
   "name": "python",
   "nbconvert_exporter": "python",
   "pygments_lexer": "ipython3",
   "version": "3.9.15"
  },
  "orig_nbformat": 4
 },
 "nbformat": 4,
 "nbformat_minor": 2
}
